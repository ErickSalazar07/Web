{
 "cells": [
  {
   "cell_type": "code",
   "execution_count": null,
   "id": "24f601c3",
   "metadata": {},
   "outputs": [],
   "source": [
    "\n",
    "import numpy as np\n",
    "import pandas as pd\n",
    "from sklearn.model_selection import train_test_split\n",
    "from sklearn.metrics import accuracy_score, classification_report\n",
    "from sklearn.impute import SimpleImputer\n",
    "\n",
    "data_path = 'water_potability.csv'\n",
    "df = pd.read_csv(data_path)\n",
    "\n",
    "imputer = SimpleImputer(strategy='mean')\n",
    "df_imputed = pd.DataFrame(imputer.fit_transform(df), columns=df.columns)\n",
    "\n",
    "X = df_imputed.drop(columns='Potability')\n",
    "y = df_imputed['Potability']\n"
   ]
  },
  {
   "cell_type": "code",
   "execution_count": null,
   "id": "590155ee",
   "metadata": {},
   "outputs": [],
   "source": [
    "\n",
    "def entropy(labels):\n",
    "    _, counts = np.unique(labels, return_counts=True)\n",
    "    probabilities = counts / counts.sum()\n",
    "    return -np.sum(probabilities * np.log2(probabilities))\n",
    "\n",
    "def information_gain(data, split_attribute, target_attribute):\n",
    "    total_entropy = entropy(data[target_attribute])\n",
    "    \n",
    "    values, counts = np.unique(data[split_attribute], return_counts=True)\n",
    "    weighted_entropy = np.sum([\n",
    "        (counts[i] / np.sum(counts)) * entropy(data[data[split_attribute] == values[i]][target_attribute])\n",
    "        for i in range(len(values))\n",
    "    ])\n",
    "    \n",
    "    return total_entropy - weighted_entropy\n"
   ]
  },
  {
   "cell_type": "code",
   "execution_count": null,
   "id": "91123846",
   "metadata": {},
   "outputs": [],
   "source": [
    "\n",
    "def best_attribute(data, attributes, target_attribute):\n",
    "    gains = [(attr, information_gain(data, attr, target_attribute)) for attr in attributes]\n",
    "    return max(gains, key=lambda x: x[1])[0]\n",
    "\n",
    "def id3(data, original_data, attributes, target_attribute=\"Potability\", parent_node_class=None):\n",
    "    if len(np.unique(data[target_attribute])) <= 1:\n",
    "        return np.unique(data[target_attribute])[0]\n",
    "    \n",
    "    elif len(data) == 0:\n",
    "        return np.unique(original_data[target_attribute])[\n",
    "            np.argmax(np.unique(original_data[target_attribute], return_counts=True)[1])\n",
    "        ]\n",
    "    \n",
    "    elif len(attributes) == 0:\n",
    "        return parent_node_class\n",
    "    \n",
    "    else:\n",
    "        parent_node_class = np.unique(data[target_attribute])[\n",
    "            np.argmax(np.unique(data[target_attribute], return_counts=True)[1])\n",
    "        ]\n",
    "        \n",
    "        best_attr = best_attribute(data, attributes, target_attribute)\n",
    "        tree = {best_attr: {}}\n",
    "        \n",
    "        remaining_attributes = [attr for attr in attributes if attr != best_attr]\n",
    "        \n",
    "        for value in np.unique(data[best_attr]):\n",
    "            subset = data[data[best_attr] == value]\n",
    "            subtree = id3(subset, original_data, remaining_attributes, target_attribute, parent_node_class)\n",
    "            tree[best_attr][value] = subtree\n",
    "        \n",
    "        return tree\n",
    "\n",
    "attributes = X.columns.tolist()\n",
    "tree = id3(df_imputed, df_imputed, attributes, target_attribute=\"Potability\")\n",
    "tree\n"
   ]
  },
  {
   "cell_type": "code",
   "execution_count": null,
   "id": "bd7a0644",
   "metadata": {},
   "outputs": [],
   "source": [
    "\n",
    "def predict_with_tree(tree, sample):\n",
    "    while isinstance(tree, dict):\n",
    "        attribute = next(iter(tree))\n",
    "        value = sample.get(attribute)\n",
    "        if value in tree[attribute]:\n",
    "            tree = tree[attribute][value]\n",
    "        else:\n",
    "            return None \n",
    "    return tree \n"
   ]
  },
  {
   "cell_type": "code",
   "execution_count": null,
   "id": "c440e6e9",
   "metadata": {},
   "outputs": [],
   "source": [
    "\n",
    "X_train, X_test, y_train, y_test = train_test_split(X, y, test_size=0.3, random_state=42)\n",
    "\n",
    "y_pred = [predict_with_tree(tree, X_test.iloc[i]) for i in range(len(X_test))]\n",
    "\n",
    "valid_indexes = [i for i, pred in enumerate(y_pred) if pred is not None]\n",
    "y_test_filtered = y_test.iloc[valid_indexes]\n",
    "y_pred_filtered = [y_pred[i] for i in valid_indexes]\n",
    "\n",
    "accuracy = accuracy_score(y_test_filtered, y_pred_filtered)\n",
    "classification_report_text = classification_report(y_test_filtered, y_pred_filtered)\n",
    "\n",
    "print(f\"Precisión: {accuracy * 100:.2f}%\")\n",
    "print(\"Reporte de Clasificación:\")\n",
    "print(classification_report_text)\n"
   ]
  }
 ],
 "metadata": {
  "kernelspec": {
   "display_name": "Python 3",
   "language": "python",
   "name": "python3"
  },
  "language_info": {
   "codemirror_mode": {
    "name": "ipython",
    "version": 3
   },
   "file_extension": ".py",
   "mimetype": "text/x-python",
   "name": "python",
   "nbconvert_exporter": "python",
   "pygments_lexer": "ipython3",
   "version": "3.11.9"
  }
 },
 "nbformat": 4,
 "nbformat_minor": 5
}
